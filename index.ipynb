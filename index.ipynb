{
 "cells": [
  {
   "cell_type": "code",
   "execution_count": null,
   "metadata": {},
   "outputs": [],
   "source": [
    "# Instalação do pacote Ultralytics\n",
    "\n",
    "%pip install ultralytics"
   ]
  },
  {
   "cell_type": "code",
   "execution_count": null,
   "metadata": {},
   "outputs": [],
   "source": [
    "%pip install -U ultralytics"
   ]
  },
  {
   "cell_type": "code",
   "execution_count": 14,
   "metadata": {},
   "outputs": [],
   "source": [
    "# Importar a biblioteca\n",
    "\n",
    "from ultralytics import YOLO\n",
    "import os\n",
    "import cv2"
   ]
  },
  {
   "cell_type": "code",
   "execution_count": 15,
   "metadata": {},
   "outputs": [],
   "source": [
    "# Verifica se as pastas existem e estão corretas\n",
    "\n",
    "assert os.path.exists('./dataset/images'), \"A pasta 'images' não foi encontrada.\"\n",
    "assert os.path.exists('./dataset/labels'), \"A pasta 'labels' não foi encontrada.\"\n",
    "assert os.path.exists('data.yaml'), \"O arquivo 'data.yaml' não foi encontrado.\""
   ]
  },
  {
   "cell_type": "code",
   "execution_count": 16,
   "metadata": {},
   "outputs": [],
   "source": [
    "# Carregar o modelo YOLOv5 pré-treinado da Ultralytics\n",
    "\n",
    "# model = YOLO # Use o peso desejado, como yolov5s.pt, yolov5m.pt, yolov5su.pt, etc.\n",
    "model = YOLO('yolov5su.pt')"
   ]
  },
  {
   "cell_type": "code",
   "execution_count": null,
   "metadata": {},
   "outputs": [],
   "source": [
    "\n",
    "# Definir os parâmetros de treinamento e iniciar o treino\n",
    "\n",
    "# Não recisa executar se for usar a câmera\n",
    "\n",
    "model.train(data='./data.yaml', epochs=50, save=True, save_period=10, patience=5)  # Ajuste o número de epochs conforme necessário\n",
    "\n",
    "# Testar o modelo com as três imagens do dataset\n",
    "imagens_para_reconcimento = [\n",
    "    './dataset/imagens/creme_de_leite.jpg',\n",
    "    './dataset/imagens/fosforo_fiat_lux_pinheiro.png',\n",
    "    './dataset/imagens/sabonete_em_barra_dove.png'\n",
    "]\n",
    "\n",
    "# Fazer previsões em todas as imagens e salvar as detecções\n",
    "for image_path in imagens_para_reconcimento:\n",
    "    results = model.predict(source=image_path)\n",
    "    results.save(save_dir='./output/')\n",
    "\n",
    "# Exibir a imagem com as detecções\n",
    "results.show() "
   ]
  },
  {
   "cell_type": "code",
   "execution_count": 19,
   "metadata": {},
   "outputs": [],
   "source": [
    "def abrir_camera():\n",
    "    # Iniciar a captura de vídeo\n",
    "    cap = cv2.VideoCapture(0)  # 0 para a câmera padrão\n",
    "\n",
    "    while True:\n",
    "        # Ler um quadro da câmera\n",
    "        ret, frame = cap.read()\n",
    "        if not ret:\n",
    "            print(\"Não foi possível capturar o vídeo.\")\n",
    "            break\n",
    "\n",
    "        # Fazer previsões no quadro capturado\n",
    "        results = model.predict(source=frame)\n",
    "\n",
    "        results.render()  # Atualiza o frame com as detecções\n",
    "\n",
    "        # Exibir as detecções na imagem\n",
    "        results.show()\n",
    "\n",
    "        # Mostrar o quadro com as detecções\n",
    "        cv2.imshow('Reconhecimento de Objetos', frame)\n",
    "\n",
    "        # Sair do loop se a tecla 'q' for pressionada\n",
    "        if cv2.waitKey(1) & 0xFF == ord('q'):\n",
    "            break\n",
    "\n",
    "    # Liberar a captura e fechar as janelas\n",
    "    cap.release()\n",
    "    \n",
    "    cv2.destroyAllWindows()"
   ]
  },
  {
   "cell_type": "code",
   "execution_count": null,
   "metadata": {},
   "outputs": [],
   "source": [
    "# Chamar a função para abrir a câmera\n",
    "abrir_camera()"
   ]
  }
 ],
 "metadata": {
  "kernelspec": {
   "display_name": "Python 3",
   "language": "python",
   "name": "python3"
  },
  "language_info": {
   "codemirror_mode": {
    "name": "ipython",
    "version": 3
   },
   "file_extension": ".py",
   "mimetype": "text/x-python",
   "name": "python",
   "nbconvert_exporter": "python",
   "pygments_lexer": "ipython3",
   "version": "3.12.1"
  }
 },
 "nbformat": 4,
 "nbformat_minor": 2
}
